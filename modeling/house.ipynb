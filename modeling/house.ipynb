{
 "cells": [
  {
   "cell_type": "code",
   "execution_count": 19,
   "metadata": {},
   "outputs": [
    {
     "name": "stdout",
     "output_type": "stream",
     "text": [
      "The autoreload extension is already loaded. To reload it, use:\n",
      "  %reload_ext autoreload\n",
      "c:\\Users\\Fanatee\\Documents\\Pessoal\\projects\\house\n"
     ]
    }
   ],
   "source": [
    "%load_ext autoreload\n",
    "%autoreload 2\n",
    "%cd ../"
   ]
  },
  {
   "cell_type": "code",
   "execution_count": 20,
   "metadata": {},
   "outputs": [],
   "source": [
    "import warnings\n",
    "\n",
    "import numpy as np\n",
    "import pandas as pd\n",
    "import matplotlib.pyplot as plt\n",
    "import seaborn as sns\n",
    "\n",
    "sns.set_style('darkgrid')\n",
    "warnings.filterwarnings('ignore')"
   ]
  },
  {
   "cell_type": "code",
   "execution_count": 14,
   "metadata": {},
   "outputs": [],
   "source": [
    "# import pandas as pd\n",
    "\n",
    "# # Read the CSV file\n",
    "# df = pd.read_csv('a.csv', delimiter='\\t')\n",
    "\n",
    "# # Melt the columns\n",
    "# df_melted = df.melt(id_vars='Ano', var_name='Mês', value_name='Valor')\n",
    "# df_melted.columns = ['year', 'month', 'incc']\n",
    "\n",
    "# # Replace Portuguese month names with numbers for easier processing\n",
    "# month_dict = {'Jan': 1, 'Fev': 2, 'Mar': 3, 'Abr': 4, 'Mai': 5, 'Jun': 6, \n",
    "#               'Jul': 7, 'Ago': 8, 'Set': 9, 'Out': 10, 'Nov': 11, 'Dez': 12}\n",
    "# df_melted['month'] = df_melted['month'].map(month_dict)\n",
    "\n",
    "# # Convert 'Valor' column to float, replacing commas with dots\n",
    "# df_melted['incc'] = df_melted['incc'].str.replace(',', '.').astype(float)\n",
    "\n",
    "# # Sort the DataFrame by year and month\n",
    "# df_melted = df_melted.sort_values(['year', 'month'])\n",
    "\n",
    "# # drop rows with NaN values\n",
    "# df_melted = df_melted.dropna()\n",
    "\n",
    "# # crete a new column with the date\n",
    "# df_melted['day'] = 1\n",
    "# df_melted['date'] = pd.to_datetime(dict(year=df_melted.year, month=df_melted.month, day=df_melted.day))\n",
    "\n",
    "# # set date as index\n",
    "# df_melted = df_melted.set_index('date')\n",
    "\n",
    "# # reorganize the columns\n",
    "# df_melted = df_melted[['year', 'month', 'day', 'incc']]\n",
    "\n",
    "# # Save the DataFrame to a new CSV file\n",
    "# df_melted.to_parquet('incc.parquet')\n",
    "\n",
    "# df_melted"
   ]
  },
  {
   "cell_type": "code",
   "execution_count": 28,
   "metadata": {},
   "outputs": [
    {
     "data": {
      "text/plain": [
       "(963, 4)"
      ]
     },
     "execution_count": 28,
     "metadata": {},
     "output_type": "execute_result"
    }
   ],
   "source": [
    "df = pd.read_parquet('./data/incc.parquet')\n",
    "df.shape"
   ]
  },
  {
   "cell_type": "code",
   "execution_count": 47,
   "metadata": {},
   "outputs": [
    {
     "data": {
      "text/plain": [
       "0.008734593823551906"
      ]
     },
     "execution_count": 47,
     "metadata": {},
     "output_type": "execute_result"
    }
   ],
   "source": [
    "taxa_anual = 0.11\n",
    "\n",
    "taxa_mensal = (1 + taxa_anual) ** (1/12) - 1\n",
    "taxa_mensal"
   ]
  },
  {
   "cell_type": "code",
   "execution_count": 46,
   "metadata": {},
   "outputs": [
    {
     "data": {
      "text/plain": [
       "0.12682503013196977"
      ]
     },
     "execution_count": 46,
     "metadata": {},
     "output_type": "execute_result"
    }
   ],
   "source": [
    "taxa_mensal = 0.01\n",
    "\n",
    "taxa_anual = (1 + taxa_mensal) ** 12 - 1\n",
    "taxa_anual"
   ]
  },
  {
   "cell_type": "code",
   "execution_count": null,
   "metadata": {},
   "outputs": [],
   "source": []
  }
 ],
 "metadata": {
  "kernelspec": {
   "display_name": "house-kALMeqDR-py3.10",
   "language": "python",
   "name": "python3"
  },
  "language_info": {
   "codemirror_mode": {
    "name": "ipython",
    "version": 3
   },
   "file_extension": ".py",
   "mimetype": "text/x-python",
   "name": "python",
   "nbconvert_exporter": "python",
   "pygments_lexer": "ipython3",
   "version": "3.10.11"
  }
 },
 "nbformat": 4,
 "nbformat_minor": 2
}
